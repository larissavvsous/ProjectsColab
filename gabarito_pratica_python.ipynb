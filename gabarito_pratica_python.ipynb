{
  "nbformat": 4,
  "nbformat_minor": 0,
  "metadata": {
    "colab": {
      "provenance": [],
      "authorship_tag": "ABX9TyPL1M57CouJr7bcI4yGutN7",
      "include_colab_link": true
    },
    "kernelspec": {
      "name": "python3",
      "display_name": "Python 3"
    },
    "language_info": {
      "name": "python"
    }
  },
  "cells": [
    {
      "cell_type": "markdown",
      "metadata": {
        "id": "view-in-github",
        "colab_type": "text"
      },
      "source": [
        "<a href=\"https://colab.research.google.com/github/larissavvsous/ProjectsColab/blob/main/gabarito_pratica_python.ipynb\" target=\"_parent\"><img src=\"https://colab.research.google.com/assets/colab-badge.svg\" alt=\"Open In Colab\"/></a>"
      ]
    },
    {
      "cell_type": "markdown",
      "source": [
        "# <center> Profa. Elisângela Rodrigues</center>\n",
        "## <center> Monitoras: Bruna Barreto, Larissa Sousa</center>\n",
        "\n",
        "---\n",
        "\n",
        "# **Parte II: Prática (usando a linguagem Python)**\n",
        "\n",
        "### Leitura da base de dados `survey`:"
      ],
      "metadata": {
        "id": "2EbUP4vCFAEj"
      }
    },
    {
      "cell_type": "code",
      "execution_count": 10,
      "metadata": {
        "colab": {
          "base_uri": "https://localhost:8080/",
          "height": 0
        },
        "id": "1O1KOCHX8AMu",
        "outputId": "dea11dd3-8777-4ebe-88c6-064eda5ac7f8"
      },
      "outputs": [
        {
          "output_type": "stream",
          "name": "stdout",
          "text": [
            "        Sex  Wr.Hnd  NW.Hnd  W.Hnd     Fold  Pulse     Clap  Exer  Smoke  \\\n",
            "0    Female    18.5    18.0  Right   R on L   92.0     Left  Some  Never   \n",
            "1      Male    19.5    20.5   Left   R on L  104.0     Left  None  Regul   \n",
            "2      Male    18.0    13.3  Right   L on R   87.0  Neither  None  Occas   \n",
            "3      Male    18.8    18.9  Right   R on L    NaN  Neither  None  Never   \n",
            "4      Male    20.0    20.0  Right  Neither   35.0    Right  Some  Never   \n",
            "..      ...     ...     ...    ...      ...    ...      ...   ...    ...   \n",
            "232  Female    18.0    18.0  Right   L on R   85.0    Right  Some  Never   \n",
            "233  Female    18.5    18.0  Right   L on R   88.0    Right  Some  Never   \n",
            "234  Female    17.5    16.5  Right   R on L    NaN    Right  Some  Never   \n",
            "235    Male    21.0    21.5  Right   R on L   90.0    Right  Some  Never   \n",
            "236  Female    17.6    17.3  Right   R on L   85.0    Right  Freq  Never   \n",
            "\n",
            "     Height       M.I     Age  \n",
            "0     173.0    Metric  18.250  \n",
            "1     177.8  Imperial  17.583  \n",
            "2       NaN       NaN  16.917  \n",
            "3     160.0    Metric  20.333  \n",
            "4     165.0    Metric  23.667  \n",
            "..      ...       ...     ...  \n",
            "232   165.1  Imperial  17.667  \n",
            "233   160.0    Metric  16.917  \n",
            "234   170.0    Metric  18.583  \n",
            "235   183.0    Metric  17.167  \n",
            "236   168.5    Metric  17.750  \n",
            "\n",
            "[237 rows x 12 columns]\n"
          ]
        }
      ],
      "source": [
        "import pandas as pd\n",
        "\n",
        "# URL do arquivo CSV\n",
        "url = 'https://r-data.pmagunia.com/system/files/datasets/dataset-66172.csv' # Link do dataset\n",
        "\n",
        "# Ler o arquivo CSV a partir do URL\n",
        "survey = pd.read_csv(url)\n",
        "\n",
        "# Exibir o DataFrame\n",
        "print(survey)"
      ]
    },
    {
      "cell_type": "markdown",
      "source": [
        "### **1)** Encontre uma estimativa pontual da idade média do estudante universitário com os dados de amostra da pesquisa `survey`.\n",
        "\n",
        "#### **Solução:**"
      ],
      "metadata": {
        "id": "6CSoRYMpI0Fu"
      }
    },
    {
      "cell_type": "code",
      "source": [
        "import pandas as pd\n",
        "\n",
        "# Salvar a idade do aluno dos dados de pesquisa\n",
        "age_survey = survey['Age']\n",
        "\n",
        "# Encontrar a estimativa pontual da idade média do aluno\n",
        "point_estimate = age_survey.mean()\n",
        "\n",
        "# Imprimir a estimativa pontual\n",
        "print(f\"Estimativa pontual da idade média do aluno: {point_estimate} anos.\")\n"
      ],
      "metadata": {
        "colab": {
          "base_uri": "https://localhost:8080/",
          "height": 0
        },
        "id": "YnHKnE1fFPuq",
        "outputId": "299cac4d-4e90-4e36-a378-156238652678"
      },
      "execution_count": 11,
      "outputs": [
        {
          "output_type": "stream",
          "name": "stdout",
          "text": [
            "Estimativa pontual da idade média do aluno: 20.37451476793249 anos.\n"
          ]
        }
      ]
    },
    {
      "cell_type": "code",
      "source": [
        "import numpy as np\n",
        "from scipy import stats\n",
        "\n",
        "# Calcular o intervalo de confiança\n",
        "confidence_level = 0.95\n",
        "t_statistic = stats.t.ppf(1 - (1 - confidence_level) / 2, len(age_survey) - 1)\n",
        "mean = np.mean(age_survey)\n",
        "std_dev = np.std(age_survey, ddof=1)\n",
        "margin_of_error = t_statistic * std_dev / np.sqrt(len(age_survey))\n",
        "confidence_interval = (mean - margin_of_error, mean + margin_of_error)\n",
        "\n",
        "# Imprimir o intervalo de confiança\n",
        "print(f\"Os intervalos de confiança para a idade média do estudante universitário são {confidence_interval[0]} - {confidence_interval[1]}\")\n",
        "print(f\"\\nPortanto, o nível de confiança de {confidence_level*100}% inclui a verdadeira média populacional que é igual a {mean} anos.\")\n"
      ],
      "metadata": {
        "colab": {
          "base_uri": "https://localhost:8080/",
          "height": 0
        },
        "id": "pPZ0WCC_FPMJ",
        "outputId": "0fb8b9ab-a56c-4736-d823-609602ceb426"
      },
      "execution_count": 12,
      "outputs": [
        {
          "output_type": "stream",
          "name": "stdout",
          "text": [
            "Os intervalos de confiança para a idade média do estudante universitário são 19.54599675948782 - 21.203032776377157\n",
            "\n",
            "Portanto, o nível de confiança de 95.0% inclui a verdadeira média populacional que é igual a 20.37451476793249 anos.\n"
          ]
        }
      ]
    },
    {
      "cell_type": "markdown",
      "source": [
        "### **2)** Assuma o desvio padrão da população σ da idade do aluno na pesquisa de dados é 7. Encontre a margem de erro e a estimativa de intervalo com nível de confiança de 95%.\n",
        "\n",
        "#### **Solução:**"
      ],
      "metadata": {
        "id": "HGzWjKipFPAB"
      }
    },
    {
      "cell_type": "code",
      "source": [
        "import numpy as np\n",
        "from scipy.stats import norm\n",
        "\n",
        "# População de desvio padrão\n",
        "sigma = 7\n",
        "\n",
        "# Tamanho da amostra\n",
        "n = len(age_survey)\n",
        "\n",
        "# Erro padrão\n",
        "SE = sigma / np.sqrt(n)\n",
        "\n",
        "# Margem de erro\n",
        "E = norm.ppf(0.975) * SE\n",
        "\n",
        "# Média da amostra\n",
        "xbar = np.mean(age_survey)\n",
        "\n",
        "# Intervalo de confiança\n",
        "confidence_interval = (xbar - E, xbar + E)\n",
        "\n",
        "# Imprimir a média da amostra, a margem de erro e o intervalo de confiança\n",
        "print(f\"A margem de erro da idade do aluno assumindo que o desvio padrão da população é {sigma} no nível de confiança de 95% é {E} anos.\")\n",
        "print(f\"\\nA média da amostra é {xbar} anos.\")\n",
        "print(f\"\\nO intervalo de confiança para este caso está entre {confidence_interval[0]} e {confidence_interval[1]} anos.\")"
      ],
      "metadata": {
        "colab": {
          "base_uri": "https://localhost:8080/",
          "height": 0
        },
        "id": "i7kG7340FO0R",
        "outputId": "7959cad0-1305-4514-99fb-ece00649dd79"
      },
      "execution_count": 13,
      "outputs": [
        {
          "output_type": "stream",
          "name": "stdout",
          "text": [
            "A margem de erro da idade do aluno assumindo que o desvio padrão da população é 7 no nível de confiança de 95% é 0.8911933927887157 anos.\n",
            "\n",
            "A média da amostra é 20.37451476793249 anos.\n",
            "\n",
            "O intervalo de confiança para este caso está entre 19.483321375143774 e 21.265708160721204 anos.\n"
          ]
        }
      ]
    },
    {
      "cell_type": "markdown",
      "source": [
        "#### **Solução alternativa:**\n",
        "\n",
        "\n",
        "*   O método `ztest` não está disponível na versão do SciPy instalada no Colab. Uma solução alternativa é calcular manualmente o valor do teste z usando os dados fornecidos.\n",
        "\n"
      ],
      "metadata": {
        "id": "HDduhMEBFOjJ"
      }
    },
    {
      "cell_type": "code",
      "source": [
        "import numpy as np\n",
        "from scipy.stats import norm\n",
        "\n",
        "# População de desvio padrão\n",
        "sigma = 7\n",
        "\n",
        "# Calcular a média da amostra\n",
        "xbar = np.mean(age_survey)\n",
        "\n",
        "# Calcular o desvio padrão da média\n",
        "se = sigma / np.sqrt(len(age_survey))\n",
        "\n",
        "# Calcular o valor do teste z\n",
        "z = (xbar - sigma) / se\n",
        "\n",
        "# Calcular o intervalo de confiança\n",
        "confidence_interval = norm.interval(0.95, loc=xbar, scale=se)\n",
        "\n",
        "# Imprimir os resultados\n",
        "print(f\"O valor do teste z é {z}.\")\n",
        "print(f\"\\nO intervalo de confiança para este caso está entre {confidence_interval[0]} e {confidence_interval[1]} anos.\")\n"
      ],
      "metadata": {
        "colab": {
          "base_uri": "https://localhost:8080/",
          "height": 0
        },
        "id": "X7JHT3SSdEdP",
        "outputId": "dfd212d4-0224-4102-ba1e-f1de33694176"
      },
      "execution_count": 14,
      "outputs": [
        {
          "output_type": "stream",
          "name": "stdout",
          "text": [
            "O valor do teste z é 29.4140053864397.\n",
            "\n",
            "O intervalo de confiança para este caso está entre 19.483321375143774 e 21.265708160721204 anos.\n"
          ]
        }
      ]
    },
    {
      "cell_type": "markdown",
      "source": [
        "### **3)** Sem assumir o desvio padrão da população, σ, da idade do aluno na pesquisa, encontre a margem de erro e a estimativa do intervalo com nível de confiança de 95%.\n",
        "\n",
        "#### **Solução:**"
      ],
      "metadata": {
        "id": "TO6puhieeU0k"
      }
    },
    {
      "cell_type": "code",
      "source": [
        "import numpy as np\n",
        "from scipy.stats import t\n",
        "\n",
        "# Filtrar valores ausentes\n",
        "age_response = np.array(age_survey)[~np.isnan(age_survey)]\n",
        "\n",
        "# Atribuir o comprimento\n",
        "n = len(age_response)\n",
        "\n",
        "# Desvio padrão amostral\n",
        "s = 7\n",
        "\n",
        "# Estimando o erro padrão\n",
        "SE = s / np.sqrt(n)\n",
        "\n",
        "# Margem de erro (cauda superior 95% do intervalo de confiança)\n",
        "E = t.ppf(0.975, df=n-1) * SE\n",
        "\n",
        "# Média da amostra\n",
        "xbar = np.mean(age_response)\n",
        "\n",
        "# Intervalo de confiança\n",
        "confidence_interval = (xbar - E, xbar + E)\n",
        "\n",
        "# Imprimir os resultados\n",
        "print(f\"A margem de erro para a pesquisa de idade do aluno é de {E} anos com nível de confiança de 95%.\")\n",
        "print(f\"\\nO intervalo de confiança está entre {confidence_interval[0]} e {confidence_interval[1]} anos.\")\n"
      ],
      "metadata": {
        "colab": {
          "base_uri": "https://localhost:8080/",
          "height": 0
        },
        "id": "Ux174T_peOzu",
        "outputId": "43978ca8-8918-47d2-8b8b-95e8ca366110"
      },
      "execution_count": 15,
      "outputs": [
        {
          "output_type": "stream",
          "name": "stdout",
          "text": [
            "A margem de erro para a pesquisa de idade do aluno é de 0.8957871556235714 anos com nível de confiança de 95%.\n",
            "\n",
            "O intervalo de confiança está entre 19.478727612308916 e 21.27030192355606 anos.\n"
          ]
        }
      ]
    },
    {
      "cell_type": "markdown",
      "source": [
        "#### Solução alternativa:"
      ],
      "metadata": {
        "id": "aeTNdofEfBAV"
      }
    },
    {
      "cell_type": "code",
      "source": [
        "import numpy as np\n",
        "from scipy.stats import ttest_1samp\n",
        "\n",
        "# Filtrar valores ausentes\n",
        "age_response = np.array(age_survey)[~np.isnan(age_survey)]\n",
        "\n",
        "# Realizar o teste t de uma amostra\n",
        "t_statistic, p_value = ttest_1samp(age_response, popmean=0)\n",
        "\n",
        "# Imprimir os resultados\n",
        "print(f\"O valor do teste t é {t_statistic}.\")\n",
        "print(f\"\\nO valor de p é {p_value}.\")\n"
      ],
      "metadata": {
        "colab": {
          "base_uri": "https://localhost:8080/",
          "height": 0
        },
        "id": "yAA4FaYleOw2",
        "outputId": "20d6756a-1309-4cf2-f02f-1a1ef18da097"
      },
      "execution_count": 16,
      "outputs": [
        {
          "output_type": "stream",
          "name": "stdout",
          "text": [
            "O valor do teste t é 48.44693269573472.\n",
            "\n",
            "O valor de p é 1.2778887334192208e-124.\n"
          ]
        }
      ]
    },
    {
      "cell_type": "markdown",
      "source": [
        "### **4)** Melhore a qualidade de uma pesquisa amostral aumentando o tamanho da amostra com desvio padrão desconhecido, σ.\n",
        "#### **Solução**:"
      ],
      "metadata": {
        "id": "41npYn69fOos"
      }
    },
    {
      "cell_type": "code",
      "source": [
        "from scipy.stats import norm\n",
        "\n",
        "# Variáveis de entrada\n",
        "p = 0.5  # Probabilidade de sucesso (assumindo variabilidade máxima)\n",
        "margin_error = 0.05  # Margem de erro desejada\n",
        "confidence_level = 0.95  # Nível de confiança desejado\n",
        "\n",
        "# Calcular o valor crítico Z\n",
        "z_star = norm.ppf((1 + confidence_level) / 2)\n",
        "\n",
        "# Calcular o tamanho da amostra necessário\n",
        "sample_size = ((z_star ** 2) * p * (1 - p)) / (margin_error ** 2)\n",
        "\n",
        "# Arredondar o tamanho da amostra para o próximo número inteiro\n",
        "sample_size = int(round(sample_size))\n",
        "\n",
        "# Imprimir o tamanho da amostra necessário\n",
        "print(f\"O tamanho da amostra necessário para melhorar a qualidade da pesquisa amostral é de aproximadamente {sample_size}.\")\n"
      ],
      "metadata": {
        "colab": {
          "base_uri": "https://localhost:8080/",
          "height": 0
        },
        "id": "lfmg7zLReOtM",
        "outputId": "d6f6f2ed-5839-481c-c323-d56033ad2fbc"
      },
      "execution_count": 17,
      "outputs": [
        {
          "output_type": "stream",
          "name": "stdout",
          "text": [
            "O tamanho da amostra necessário para melhorar a qualidade da pesquisa amostral é de aproximadamente 384.\n"
          ]
        }
      ]
    },
    {
      "cell_type": "markdown",
      "source": [
        "#### **5)** Suponha que você não tenha uma estimativa de proporção planejada, encontre o tamanho da amostra necessário para atingir uma margem de erro de 5% para a pesquisa de estudantes do sexo masculino com um nível de confiança de 95%.\n",
        "#### **Solução:**"
      ],
      "metadata": {
        "id": "W0asOm2tgZ5b"
      }
    },
    {
      "cell_type": "code",
      "source": [
        "import numpy as np\n",
        "from scipy.stats import norm\n",
        "\n",
        "# Dados de resposta de gênero (substitua pela coluna correta da base de dados)\n",
        "sex = survey[\"Sex\"]\n",
        "\n",
        "# Número total de respostas\n",
        "n = len(sex)\n",
        "\n",
        "# Número de respostas do sexo masculino\n",
        "k = np.sum(np.array(sex) == \"Male\")\n",
        "\n",
        "# Proporção de respostas do sexo masculino\n",
        "p_bar = k / n\n",
        "\n",
        "# Valor crítico Z para o nível de confiança desejado\n",
        "z_star = norm.ppf(0.975)  # Para um nível de confiança de 95%\n",
        "\n",
        "# Margem de erro desejada\n",
        "E = 0.05\n",
        "\n",
        "# Tamanho da amostra necessário\n",
        "sample_size = (z_star ** 2 * p_bar * (1 - p_bar)) / (E ** 2)\n",
        "\n",
        "# Arredondar o tamanho da amostra para o próximo número inteiro\n",
        "sample_size = int(np.ceil(sample_size))\n",
        "\n",
        "# Imprimir o tamanho da amostra necessário\n",
        "print(f\"O tamanho da amostra necessário para a pesquisa de estudantes do sexo masculino é de aproximadamente {sample_size}.\")\n",
        "print(f\"\\nO número de alunos do sexo masculino é {k}.\")\n",
        "print(f\"\\nA proporção de alunos do sexo masculino é {p_bar}.\")"
      ],
      "metadata": {
        "colab": {
          "base_uri": "https://localhost:8080/",
          "height": 0
        },
        "id": "qVr6DvIHeOoE",
        "outputId": "83cefe49-46f4-485f-8fe2-a29b234817aa"
      },
      "execution_count": 18,
      "outputs": [
        {
          "output_type": "stream",
          "name": "stdout",
          "text": [
            "O tamanho da amostra necessário para a pesquisa de estudantes do sexo masculino é de aproximadamente 385.\n",
            "\n",
            "O número de alunos do sexo masculino é 118.\n",
            "\n",
            "A proporção de alunos do sexo masculino é 0.4978902953586498.\n"
          ]
        }
      ]
    }
  ]
}